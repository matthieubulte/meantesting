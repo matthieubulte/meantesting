{
 "cells": [
  {
   "cell_type": "code",
   "execution_count": 18,
   "metadata": {},
   "outputs": [
    {
     "data": {
      "application/vnd.jupyter.widget-view+json": {
       "model_id": "e532fca3597d41ecaec3fade1703d271",
       "version_major": 2,
       "version_minor": 0
      },
      "text/plain": [
       "0it [00:00, ?it/s]"
      ]
     },
     "metadata": {},
     "output_type": "display_data"
    },
    {
     "data": {
      "text/plain": [
       "<matplotlib.lines.Line2D at 0x50d69ac70>"
      ]
     },
     "execution_count": 18,
     "metadata": {},
     "output_type": "execute_result"
    },
    {
     "data": {
      "image/png": "[encoded data removed]",
      "text/plain": [
       "<Figure size 640x480 with 1 Axes>"
      ]
     },
     "metadata": {},
     "output_type": "display_data"
    }
   ],
   "source": [
    "from tqdm.auto import tqdm\n",
    "import numpy as np\n",
    "from scipy.stats import chi2\n",
    "import matplotlib.pyplot as plt\n",
    "\n",
    "\n",
    "def watson_mean_angle_test(angles, mu_0=0.0):\n",
    "    \"\"\"Watson's one-sample test for mean angle\"\"\"\n",
    "    n = len(angles)\n",
    "    c_bar = np.mean(np.cos(angles))\n",
    "    s_bar = np.mean(np.sin(angles))\n",
    "    R = np.sqrt(c_bar**2 + s_bar**2)\n",
    "    mean_angle = np.arctan2(s_bar, c_bar)\n",
    "    T = 2 * n * (R**2) * (1 - np.cos(mean_angle - mu_0))\n",
    "    p_value = 1 - chi2.cdf(T, df=1)\n",
    "    return T, p_value, mean_angle, R\n",
    "\n",
    "\n",
    "def random_wrapped_normal(n, mu, sigma):\n",
    "    \"\"\"Generate wrapped normal samples\"\"\"\n",
    "    z = np.random.normal(size=n)\n",
    "    theta = (mu + sigma * z) % (2 * np.pi)\n",
    "    return theta\n",
    "\n",
    "\n",
    "# Simulation parameters\n",
    "n_sims = 1000\n",
    "sample_size = 5000\n",
    "kappa = 5.0  # concentration parameter\n",
    "sigma = 1 / np.sqrt(kappa)  # approximate relationship\n",
    "alpha = 0.05\n",
    "\n",
    "delta_rates = np.zeros(21)\n",
    "delta_rates_std = np.zeros(21)\n",
    "_x = np.linspace(-1, 1, delta_rates.shape[0])\n",
    "deltas = 0.1 * np.sign(_x) * (np.abs(_x) ** 1.5)\n",
    "\n",
    "rej_rate = np.zeros_like(deltas)\n",
    "\n",
    "for j, delta in tqdm(enumerate(deltas)):\n",
    "    null_pvals = np.zeros(n_sims)\n",
    "    alt_pvals = np.zeros(n_sims)\n",
    "\n",
    "    for i in range(n_sims):\n",
    "        # Null hypothesis (mu = 0)\n",
    "        null_sample = random_wrapped_normal(sample_size, delta, sigma)\n",
    "        null_pvals[i] = watson_mean_angle_test(null_sample)[1]\n",
    "\n",
    "    rej_rate[j] = np.mean(null_pvals < alpha)\n",
    "\n",
    "plt.plot(deltas, rej_rate, marker=\"o\")\n",
    "plt.axhline(0.05)"
   ]
  },
  {
   "cell_type": "code",
   "execution_count": null,
   "metadata": {},
   "outputs": [
    {
     "name": "stdout",
     "output_type": "stream",
     "text": [
      "y [3.75       3.91666667 0.08333333 0.16666667 0.41666667 3.41666667\n",
      " 3.5       ]\n",
      "angles [-247.5 -262.5   82.5   75.    52.5 -217.5 -225. ]\n",
      "13.071428571428571 , scale= 2.1785714285714284\n",
      "[-0.14508044  0.85455952]\n"
     ]
    }
   ],
   "source": [
    "import numpy as np\n",
    "\n",
    "times = np.array([22.5, 23.5, 0.5, 1.0, 2.5, 20.5, 21])\n",
    "\n",
    "print(\"y\", times / 24 * 4)\n",
    "print(\"angles\", 90 - times / 24 * 360)\n",
    "\n",
    "angles = (90 - times / 24 * 360) / 180 * np.pi\n",
    "\n",
    "print(times.mean(), \", scale=\", times.mean() / 24 * 4)\n",
    "\n",
    "print(np.c_[np.cos(angles), np.sin(angles)].mean(axis=0))"
   ]
  }
 ],
 "metadata": {
  "kernelspec": {
   "display_name": "3.9.16",
   "language": "python",
   "name": "python3"
  },
  "language_info": {
   "codemirror_mode": {
    "name": "ipython",
    "version": 3
   },
   "file_extension": ".py",
   "mimetype": "text/x-python",
   "name": "python",
   "nbconvert_exporter": "python",
   "pygments_lexer": "ipython3",
   "version": "3.9.16"
  }
 },
 "nbformat": 4,
 "nbformat_minor": 2
}
